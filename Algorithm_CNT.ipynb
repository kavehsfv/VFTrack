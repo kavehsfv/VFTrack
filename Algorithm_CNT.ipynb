{
 "cells": [
  {
   "cell_type": "markdown",
   "metadata": {},
   "source": [
    "## Imports"
   ]
  },
  {
   "cell_type": "code",
   "execution_count": 1,
   "metadata": {},
   "outputs": [
    {
     "name": "stderr",
     "output_type": "stream",
     "text": [
      "/home/kaveh/miniconda3/envs/pt/lib/python3.11/site-packages/tqdm/auto.py:21: TqdmWarning: IProgress not found. Please update jupyter and ipywidgets. See https://ipywidgets.readthedocs.io/en/stable/user_install.html\n",
      "  from .autonotebook import tqdm as notebook_tqdm\n"
     ]
    }
   ],
   "source": [
    "from AlgoFCN import FeatureTracker\n",
    "\n",
    "import torch\n",
    "import pandas as pd\n",
    "from tqdm import tqdm\n",
    "\n",
    "import os\n",
    "import glob\n",
    "import numpy as np\n",
    "import cv2\n",
    "\n",
    "import numpy as np\n",
    "import cv2\n",
    "import matplotlib.pyplot as plt\n",
    "\n",
    "import os\n",
    "import glob\n",
    "\n",
    "from tqdm import tqdm"
   ]
  },
  {
   "cell_type": "markdown",
   "metadata": {},
   "source": [
    "### Run Tracker"
   ]
  },
  {
   "cell_type": "code",
   "execution_count": 3,
   "metadata": {},
   "outputs": [
    {
     "name": "stdout",
     "output_type": "stream",
     "text": [
      "cuda:0\n"
     ]
    },
    {
     "name": "stderr",
     "output_type": "stream",
     "text": [
      "100it [00:18,  5.48it/s]\n"
     ]
    }
   ],
   "source": [
    "address = './CNT_Growth_Dataset/'\n",
    "image_paths = glob.glob(address +  '*.png')\n",
    "image_paths.sort()\n",
    "\n",
    "ft_method = 'aliked'\n",
    "tracker = FeatureTracker(ftExtractor = ft_method, mx_keypoints = 4096, desired_device = 0)\n",
    "kp_lent_ornt_deltaXY_dic = {}\n",
    "plottingFrames = []\n",
    "desRec = [0, 0, 1024, 500] # CNT expertiments\n",
    "# desRec = [0, 0, 100000, 100000]\n",
    "# desRec = [0, 0, 1920, 250]\n",
    "# desRec = [0, 0, 1080, 185]\n",
    "\n",
    "# desRec, _ = tracker.crop_points(202., 202., 400)\n",
    "# (202, 202), (612, 500), (804, 254), (312, 700)\n",
    "\n",
    "frameTracksList = {}\n",
    "idmmf = 0\n",
    "for idx, imagePath in tqdm(enumerate(image_paths)):\n",
    "        frameTracks = None\n",
    "        tracks, kp_lent_ornt_deltaXY_list, image_cv2, _frmTracks, frameGrowthingTracks = tracker.process_frame(imagePath, idx, desRec, isOnline = False)\n",
    "        cvFrame = tracker.update_cvFrame(idx, tracks, image_cv2, _frmTracks, desRec, _isOnline = False)\n",
    "        plottingFrames.append(cvFrame)\n",
    "        kp_lent_ornt_deltaXY_dic[idx] = kp_lent_ornt_deltaXY_list\n",
    "        # print(len(tracks), len(frameGrowthingTracks), print(idmmf))\n",
    "        frameTracksList[idmmf] = frameGrowthingTracks\n",
    "        idmmf = idmmf + 1"
   ]
  },
  {
   "cell_type": "markdown",
   "metadata": {},
   "source": [
    "### Remove small Tracks"
   ]
  },
  {
   "cell_type": "code",
   "execution_count": 14,
   "metadata": {},
   "outputs": [],
   "source": [
    "for key, value in list(tracks.items()):\n",
    "    if len(value) < 3:\n",
    "        del tracks[key]"
   ]
  },
  {
   "cell_type": "markdown",
   "metadata": {},
   "source": [
    "### Save Video of Tracked CNT"
   ]
  },
  {
   "cell_type": "code",
   "execution_count": 13,
   "metadata": {},
   "outputs": [
    {
     "name": "stdout",
     "output_type": "stream",
     "text": [
      "The video was successfully saved!\n"
     ]
    }
   ],
   "source": [
    "import cv2\n",
    "\n",
    "fourcc = cv2.VideoWriter_fourcc(*'mp4v')  # Use 'mp4v' for .mp4 format\n",
    "\n",
    "# Use the shape of the first image to get the frame size (width, height)\n",
    "frame_size = (plottingFrames[0][0].shape[1], plottingFrames[0][0].shape[0])\n",
    "\n",
    "saveAdrs = './results/'\n",
    "output_dir = saveAdrs + ft_method + '_' + ft_method + '_cnt_tracks.mp4'\n",
    "# Create a VideoWriter object. Adjust FPS to your liking.\n",
    "out = cv2.VideoWriter(output_dir, fourcc, 5.0, frame_size)\n",
    "\n",
    "for i in range(len(plottingFrames)):\n",
    "    # Create a copy of the current frame to avoid modifying the original frame\n",
    "    frame_with_number = plottingFrames[i][0].copy()\n",
    "\n",
    "    # Define the text to be displayed (frame number)\n",
    "    text = f\"Frame: {i+1}, Name: {image_names[i]}\"  # Add 1 because frame indices start at 0\n",
    "\n",
    "    # Define the font and font scale to be used\n",
    "    font = cv2.FONT_HERSHEY_SIMPLEX\n",
    "    font_scale = 1\n",
    "\n",
    "    # Define the text color and the thickness of the text\n",
    "    text_color = (255, 255, 255)  # White\n",
    "    thickness = 2\n",
    "\n",
    "    # Define the position of the text\n",
    "    text_position = (10, 880 - 30)  # 10 pixels from the top and 10 pixels from the left\n",
    "\n",
    "    # Draw the text onto the frame\n",
    "    cv2.putText(frame_with_number, text, text_position, font, font_scale, text_color, thickness)\n",
    "\n",
    "    # Write the frame to the video\n",
    "    out.write(frame_with_number)\n",
    "\n",
    "# Release everything when job is finished\n",
    "out.release()\n",
    "\n",
    "# Optionally, display a message\n",
    "print(\"The video was successfully saved!\")"
   ]
  }
 ],
 "metadata": {
  "kernelspec": {
   "display_name": "pt",
   "language": "python",
   "name": "python3"
  },
  "language_info": {
   "codemirror_mode": {
    "name": "ipython",
    "version": 3
   },
   "file_extension": ".py",
   "mimetype": "text/x-python",
   "name": "python",
   "nbconvert_exporter": "python",
   "pygments_lexer": "ipython3",
   "version": "3.11.13"
  }
 },
 "nbformat": 4,
 "nbformat_minor": 2
}
